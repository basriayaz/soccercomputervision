{
  "nbformat": 4,
  "nbformat_minor": 0,
  "metadata": {
    "accelerator": "GPU",
    "colab": {
      "name": "Bitirme v2 yeni",
      "provenance": [],
      "collapsed_sections": [],
      "include_colab_link": true
    },
    "kernelspec": {
      "display_name": "Python 3",
      "name": "python3"
    }
  },
  "cells": [
    {
      "cell_type": "markdown",
      "metadata": {
        "id": "view-in-github",
        "colab_type": "text"
      },
      "source": [
        "<a href=\"https://colab.research.google.com/github/iskocyali74/soccercomputervision/blob/main/Bitirme_v2_yeni.ipynb\" target=\"_parent\"><img src=\"https://colab.research.google.com/assets/colab-badge.svg\" alt=\"Open In Colab\"/></a>"
      ]
    },
    {
      "cell_type": "markdown",
      "metadata": {
        "id": "iZULaGX7_H1u"
      },
      "source": [
        "# YOLOV4 NESNE TANIMA (OBJECT DETECTİON)\n",
        "Bu notebookta nesne tanıma (object detection) için en hızlı modellerden biri olan yolov4 modeli ile nesne tanıma yapacağız."
      ]
    },
    {
      "cell_type": "markdown",
      "metadata": {
        "id": "gE3azXoR_pWi"
      },
      "source": [
        "# 1.ADIM = DARKNET KLONLAMA VE KURULUMU\n"
      ]
    },
    {
      "cell_type": "code",
      "metadata": {
        "id": "7Y2HSXYmHpqr"
      },
      "source": [
        "# clone darknet repo\n",
        "!git clone https://github.com/AlexeyAB/darknet"
      ],
      "execution_count": null,
      "outputs": []
    },
    {
      "cell_type": "code",
      "metadata": {
        "id": "xym8_m8CIyXK",
        "colab": {
          "base_uri": "https://localhost:8080/"
        },
        "outputId": "2f559aa5-5ac3-4f8c-f9cc-9e6b12bf20d0"
      },
      "source": [
        "# change makefile to have GPU and OPENCV enabled\n",
        "%cd darknet\n",
        "!sed -i 's/OPENCV=0/OPENCV=1/' Makefile\n",
        "!sed -i 's/GPU=0/GPU=1/' Makefile\n",
        "!sed -i 's/CUDNN=0/CUDNN=1/' Makefile\n",
        "!sed -i 's/CUDNN_HALF=0/CUDNN_HALF=1/' Makefile"
      ],
      "execution_count": null,
      "outputs": [
        {
          "output_type": "stream",
          "name": "stdout",
          "text": [
            "/content/darknet\n"
          ]
        }
      ]
    },
    {
      "cell_type": "code",
      "metadata": {
        "id": "5uloUwmUKF05"
      },
      "source": [
        "# verify CUDA\n",
        "!/usr/local/cuda/bin/nvcc --version"
      ],
      "execution_count": null,
      "outputs": []
    },
    {
      "cell_type": "code",
      "metadata": {
        "id": "q2Jjv0yRKLPe"
      },
      "source": [
        "# make darknet (builds darknet so that you can then use the darknet executable file to run or train object detectors)\n",
        "!make"
      ],
      "execution_count": null,
      "outputs": []
    },
    {
      "cell_type": "markdown",
      "metadata": {
        "id": "xn7TpB-UMBWf"
      },
      "source": [
        "# ADIM 2: YARDIMCI FONKSİYONLARIN TANIMLANMASI\n"
      ]
    },
    {
      "cell_type": "code",
      "metadata": {
        "id": "G9Fv0wjCMPYY"
      },
      "source": [
        "# define helper functions\n",
        "def imShow(path): \n",
        "  import cv2\n",
        "  import matplotlib.pyplot as plt\n",
        "  %matplotlib inline\n",
        "\n",
        "  image = cv2.imread(path)\n",
        "  height, width = image.shape[:2]\n",
        "  resized_image = cv2.resize(image,(3*width, 3*height), interpolation = cv2.INTER_CUBIC)\n",
        "\n",
        "  fig = plt.gcf()\n",
        "  fig.set_size_inches(18, 10)\n",
        "  plt.axis(\"off\")\n",
        "  plt.imshow(cv2.cvtColor(resized_image, cv2.COLOR_BGR2RGB))\n",
        "  plt.show()\n",
        "\n",
        "# use this to upload files\n",
        "def upload():\n",
        "  from google.colab import files\n",
        "  uploaded = files.upload() \n",
        "  for name, data in uploaded.items():\n",
        "    with open(name, 'wb') as f:\n",
        "      f.write(data)\n",
        "      print ('saved file', name)\n",
        "\n",
        "# use this to download a file  \n",
        "def download(path):\n",
        "  from google.colab import files\n",
        "  files.download(path)"
      ],
      "execution_count": null,
      "outputs": []
    },
    {
      "cell_type": "markdown",
      "metadata": {
        "id": "BagdUvDhZT7O"
      },
      "source": [
        "## ADIM 3: FOTOĞRAF TOPLAMA VE ETİKETLEME \n",
        "Üzerinde tanıma yapacağımız nesne için bir çok fotoğrafa ihtiyacımız olacak. Ne kadar fazla ve ne kadar farklı tip fotoğrafımız olursa o kadar doğru bir modelimiz olur. "
      ]
    },
    {
      "cell_type": "code",
      "metadata": {
        "id": "uMLpWp-DZSZY",
        "colab": {
          "base_uri": "https://localhost:8080/"
        },
        "outputId": "193860ac-e83e-4bd9-8485-3e595c89bb68"
      },
      "source": [
        "%cd ..\n",
        "from google.colab import drive\n",
        "drive.mount('/content/gdrive')"
      ],
      "execution_count": null,
      "outputs": [
        {
          "output_type": "stream",
          "name": "stdout",
          "text": [
            "/content\n",
            "Mounted at /content/gdrive\n"
          ]
        }
      ]
    },
    {
      "cell_type": "code",
      "metadata": {
        "id": "bBFiu7rFZdmU"
      },
      "source": [
        "# this creates a symbolic link so that now the path /content/gdrive/My\\ Drive/ is equal to /mydrive\n",
        "!ln -s /content/gdrive/My\\ Drive/ /mydrive\n",
        "!ls /mydrive"
      ],
      "execution_count": null,
      "outputs": []
    },
    {
      "cell_type": "markdown",
      "metadata": {
        "id": "9ket44SxkdBu"
      },
      "source": [
        "## ADIM 4: HAZIRLAMIŞ OLDUĞUMUZ VERİ SETİNİ YÜKLEME\n",
        "Hazırlamış olduğumuz veri setini google collab'e yüklemeliyiz.\n",
        "\n",
        "Bunun için drive'ımızda bir yolov4 diye klasör oluşturalım.(bu klasörü daha sonra gerekli dosyaları bir arada toplamak için kullanacağız)\n",
        "\n",
        "Veri setiniz bir klasör içine alıp zip haline getirerek drive'ımıza yükleyip oradan google collab içine aktarmak bize zaman kazandıracaktır."
      ]
    },
    {
      "cell_type": "code",
      "metadata": {
        "id": "YL--CsG0Vevs",
        "colab": {
          "base_uri": "https://localhost:8080/"
        },
        "outputId": "fed70273-d50e-4e86-80ed-b7ef0e91f891"
      },
      "source": [
        "# this is where my datasets are stored within my Google Drive (I created a yolov4 folder to store all important files for custom training) \n",
        "%cd darknet/\n",
        "!ls /mydrive/yolov4"
      ],
      "execution_count": null,
      "outputs": [
        {
          "output_type": "stream",
          "name": "stdout",
          "text": [
            "/content/darknet\n",
            "backup\t    generate_test.py   obj.data   obj.zip   yolov4-obj.cfg\n",
            "deneme.png  generate_train.py  obj.names  test.zip\n"
          ]
        }
      ]
    },
    {
      "cell_type": "code",
      "metadata": {
        "id": "zqLQF0fNWJro"
      },
      "source": [
        "# copy over both datasets into the root directory of the Colab VM (comment out test.zip if you are not using a validation dataset)\n",
        "!cp /mydrive/yolov4/obj.zip ../\n",
        "!cp /mydrive/yolov4/test.zip ../"
      ],
      "execution_count": null,
      "outputs": []
    },
    {
      "cell_type": "code",
      "metadata": {
        "id": "A9mYUoKOWWlR"
      },
      "source": [
        "# unzip the datasets and their contents so that they are now in /darknet/data/ folder\n",
        "!unzip ../obj.zip -d data/\n",
        "!unzip ../test.zip -d data/"
      ],
      "execution_count": null,
      "outputs": []
    },
    {
      "cell_type": "markdown",
      "metadata": {
        "id": "SWjNcjfcXKgx"
      },
      "source": [
        "## ADIM 5: EĞİTİM İÇİN GEREKLİ DOSYALARI HAZIRLAYALIM\n",
        "\n",
        "Bu adımda eğitim için gerekli olan .cfg file, obj.data, obj.names ve train.txt dosyalarını oluşturacağız."
      ]
    },
    {
      "cell_type": "markdown",
      "metadata": {
        "id": "nWZqyTvxdZW1"
      },
      "source": [
        "*-Config Dosyası*\n"
      ]
    },
    {
      "cell_type": "code",
      "metadata": {
        "id": "WpI1Y_EzdtYx"
      },
      "source": [
        "# download cfg to google drive and change its name\n",
        "%cd darknet/\n",
        "!cp cfg/yolov4-custom.cfg /mydrive/yolov4/yolov4-obj.cfg"
      ],
      "execution_count": null,
      "outputs": []
    },
    {
      "cell_type": "markdown",
      "metadata": {
        "id": "YQUDXrhJekxl"
      },
      "source": [
        "Config dosyamızda yapmamız gereken değişiklikler:\n",
        "\n",
        "(Burada verilen değerler bu değişkenlerin önerilen değerleridir.) \n",
        "\n",
        "1.   batch = 64 ve subdivision 16.\n",
        "\n",
        "3.   max_batches değerini (2000 * eğitilen sınıf sayısı) değerine eşitliyoruz.\n",
        "\n",
        "4.   steps değerlerini (%80 of max_batches) , (%90 of max_batches) yapıyoruz.\n",
        "\n",
        "5.   [yolo] başlığı altındaki classes değerlerini eğitim yaptığımız sınıf sayısı ile değiştiriyoruz. \n",
        "\n",
        "6.   filters değişkenlerini de (eğitim yapacağımız sınıf sayısı + 5 )*3 değerine eşitliyoruz \n",
        "\n"
      ]
    },
    {
      "cell_type": "code",
      "metadata": {
        "id": "kXkXb1tlLCnE"
      },
      "source": [
        "# upload the custom .cfg back to cloud VM from Google Drive\n",
        "!cp /mydrive/yolov4/yolov4-obj.cfg ./cfg"
      ],
      "execution_count": null,
      "outputs": []
    },
    {
      "cell_type": "markdown",
      "metadata": {
        "id": "a4b33o9EiHUD"
      },
      "source": [
        "*-obj.names ve obj.data*\n",
        "\n",
        "yolov3 isimli klasörümüz içine obj.names isimli bir dosya oluşturalım ve dosyayı eğitim yapacağımız nesleriniz isimlerini yazıyoruz.\n",
        "\n",
        "ÖRNEĞİN:\n",
        "```\n",
        "Guitar\n",
        "Mobile Phone\n",
        "```\n",
        "\n",
        "Aynı klasör içinde obj.data isimle bir dosya oluşturarak içine eğitim yapacağımız nesne sayısını, eğitim yaparken kullanacağımız train.txt, text.txt ve obj.names isimli dosyaların adreslerini ve eğitim sonucu bulduğumuz ağırlıkları kaydedeceğimiz dizini yazıyoruz.\n",
        "\n",
        "ÖRNEĞİN:\n",
        "```\n",
        "classes = 2\n",
        "train = data/train.txt\n",
        "valid = data/test.txt\n",
        "names = data/obj.names\n",
        "backup = /mydrive\n",
        "```"
      ]
    },
    {
      "cell_type": "code",
      "metadata": {
        "id": "1vuqvzvLUtw2"
      },
      "source": [
        "# upload the obj.names and obj.data files to cloud VM from Google Drive\n",
        "!cp /mydrive/yolov4/obj.names ./data\n",
        "!cp /mydrive/yolov4/obj.data  ./data"
      ],
      "execution_count": null,
      "outputs": []
    },
    {
      "cell_type": "markdown",
      "metadata": {
        "id": "zIA38VpCU1y9"
      },
      "source": [
        "*-Train ve Test Dosyaları*\n",
        "\n",
        "\n",
        "generate_train.py\n",
        "\n",
        "\n",
        "\n",
        "```\n",
        "import os\n",
        "image_files = []\n",
        "os.chdir(os.path.join(\"data\", \"obj\"))\n",
        "for filename in os.listdir(os.getcwd()):\n",
        "    if filename.endswith(\".jpg\"):\n",
        "        image_files.append(\"data/obj/\" + filename)\n",
        "os.chdir(\"..\")\n",
        "with open(\"train.txt\", \"w\") as outfile:\n",
        "    for image in image_files:\n",
        "        outfile.write(image)\n",
        "        outfile.write(\"\\n\")\n",
        "    outfile.close()\n",
        "os.chdir(\"..\")\n",
        "```\n",
        "\n",
        "generate_test.py\n",
        "\n",
        "\n",
        "\n",
        "```\n",
        "import os\n",
        "\n",
        "image_files = []\n",
        "os.chdir(os.path.join(\"data\", \"test\"))\n",
        "for filename in os.listdir(os.getcwd()):\n",
        "    if filename.endswith(\".jpg\"):\n",
        "        image_files.append(\"data/test/\" + filename)\n",
        "os.chdir(\"..\")\n",
        "with open(\"test.txt\", \"w\") as outfile:\n",
        "    for image in image_files:\n",
        "        outfile.write(image)\n",
        "        outfile.write(\"\\n\")\n",
        "    outfile.close()\n",
        "os.chdir(\"..\")\n",
        "```\n"
      ]
    },
    {
      "cell_type": "code",
      "metadata": {
        "id": "4mgiK3C2ZF0k"
      },
      "source": [
        "# upload the generate_train.py and generate_test.py script to cloud VM from Google Drive\n",
        "!cp /mydrive/yolov4/generate_train.py ./\n",
        "!cp /mydrive/yolov4/generate_test.py ./"
      ],
      "execution_count": null,
      "outputs": []
    },
    {
      "cell_type": "code",
      "metadata": {
        "id": "DAKjJSJwJb5R"
      },
      "source": [
        "!python generate_train.py\n",
        "!python generate_test.py"
      ],
      "execution_count": null,
      "outputs": []
    },
    {
      "cell_type": "code",
      "metadata": {
        "id": "nv5yDQptaJRE",
        "outputId": "a1781e3f-5fe4-4a2b-941d-66078fd2afed",
        "colab": {
          "base_uri": "https://localhost:8080/"
        }
      },
      "source": [
        "# verify that the newly generated train.txt and test.txt can be seen in our darknet/data folder\n",
        "!ls data/"
      ],
      "execution_count": null,
      "outputs": [
        {
          "output_type": "stream",
          "name": "stdout",
          "text": [
            "9k.tree     eagle.jpg\t imagenet.labels.list\t   person.jpg\n",
            "coco9k.map  giraffe.jpg  imagenet.shortnames.list  scream.jpg\n",
            "coco.names  goal.txt\t labels\t\t\t   voc.names\n",
            "dog.jpg     horses.jpg\t openimages.names\n"
          ]
        }
      ]
    },
    {
      "cell_type": "markdown",
      "metadata": {
        "id": "nrkC4l-PbmNS"
      },
      "source": [
        "# ADIM 6: ÖNCEDEN EĞİTİLMİŞ CONVOLUTİONAL KATMANLARIN AĞIRLIKLARINI İNDİRME\n",
        "\n",
        "Bu adımda önceden eğitilmiş yolov3 için kullanılmış deeplearning katmanları ağırlıklarını indiriyoruz. Bu adımı uygulamak zorunda değiliz ama eğitime bu ağırlıklarla başlamak eğittiğimiz modelin daha doğru çalışmasına ve eğitim süresini kısaltmaya yardımcı olacaktır."
      ]
    },
    {
      "cell_type": "code",
      "metadata": {
        "id": "KcUKbtO-byOE"
      },
      "source": [
        "!wget https://github.com/AlexeyAB/darknet/releases/download/darknet_yolo_v3_optimal/yolov4.conv.137"
      ],
      "execution_count": null,
      "outputs": []
    },
    {
      "cell_type": "markdown",
      "metadata": {
        "id": "POozxsvFdXTu"
      },
      "source": [
        "# ADIM 7: KENDİ NESNE TANIYICIMIZI EĞİTELİM\n",
        "\n",
        "Gerekli tüm dosyalar hazır, eğitime başlayabiliriz.\n"
      ]
    },
    {
      "cell_type": "markdown",
      "metadata": {
        "id": "9XQWTdDxDJ0q"
      },
      "source": [
        "\n",
        "Eğitimimiz uzun süreceği için google collab bizi serverdan atabilir. Bunun önüne geçmek için aktif olduğumuzu bir şekile bildirmeliyiz.\n",
        "\n",
        "\n",
        "Bunun için de sayfanın üst tarafına sağ tıklayıp \"ögeyi denetle\" veya \"incele\" seçeneğiniz seçip, çıkan pencereden \"console\"'a tıklayıp açılan komut satırına aşağıdaki kodu ekleyip enter tuşuna basarsak bu kod bizim 10 dakikada bir connect butonuna basarak bizim aktif kalmamızı sağlayacaktır.\n",
        "\n",
        "```\n",
        "function ClickConnect(){\n",
        "console.log(\"Working\"); \n",
        "document.querySelector(\"colab-toolbar-button#connect\").click() \n",
        "}\n",
        "setInterval(ClickConnect,60000)\n",
        "```"
      ]
    },
    {
      "cell_type": "markdown",
      "metadata": {
        "id": "qCmo1XsMDPNv"
      },
      "source": [
        "# EĞİTİM\n",
        "\n",
        "Sıradaki komut ile eğitim başlayacaktır.\n",
        "\n",
        "Eğitimimizin süresi veri setinizdeki fotoğraf sayısı, fotoğrafların kalitesi, eğitim yaptığınız nesne sayısı gibi faktörlere göre değişebilir. Modelimizin doğruluğu için loss değerimiz önemlidir. Loss değerimiz ne kadar düşük olursa modelimiz o kadar doğru çalışır. Modelimizi loss değeri azalmayı durdurana kadar çalıştırıp veri setimize göre mümkün olan en doğru modeli eğitebiliriz. "
      ]
    },
    {
      "cell_type": "code",
      "metadata": {
        "id": "imc0NP19hLuq",
        "colab": {
          "base_uri": "https://localhost:8080/"
        },
        "outputId": "9e4fa3d0-aafb-4cbc-e4b3-2cd3471eb917"
      },
      "source": [
        "# train your custom detector! (uncomment %%capture below if you run into memory issues or your Colab is crashing)\n",
        "# %%capture\n",
        "!./darknet detector train data/obj.data cfg/yolov4-obj.cfg yolov4.conv.137 -dont_show -map"
      ],
      "execution_count": null,
      "outputs": [
        {
          "output_type": "stream",
          "name": "stdout",
          "text": [
            "CUDA status Error: file: ./src/dark_cuda.c : () : line: 38 : build time: Dec 27 2021 - 09:11:57 \n",
            "\n",
            " CUDA Error: no CUDA-capable device is detected\n",
            "Darknet error location: ./src/dark_cuda.c, check_error, line #69\n",
            "CUDA Error: no CUDA-capable device is detected: Bad file descriptor\n"
          ]
        }
      ]
    },
    {
      "cell_type": "markdown",
      "metadata": {
        "id": "5GjIkYFjhnYL"
      },
      "source": [
        "Modelimizi eğittikten sonra eğitim sırasında loss değerimizin nasıl değiştiğine dair bir grafik görebiliriz."
      ]
    },
    {
      "cell_type": "code",
      "metadata": {
        "id": "uXPGYKmchv7Z"
      },
      "source": [
        "# eğitimimize ait grafiğimiz.\n",
        "imShow('chart.png')"
      ],
      "execution_count": null,
      "outputs": []
    },
    {
      "cell_type": "code",
      "metadata": {
        "id": "Fl7PsmikjCBW"
      },
      "source": [
        "# eğitime kaldığımız yerden devam edebiliriz.\n",
        "!./darknet detector train data/obj.data cfg/yolov4-obj.cfg /mydrive/yolov4/backup/yolov4-obj_last.weights -dont_show"
      ],
      "execution_count": null,
      "outputs": []
    },
    {
      "cell_type": "markdown",
      "metadata": {
        "id": "voia4UtxlPMa"
      },
      "source": [
        "# ADIM 7: EĞİTTİĞİMİZ MODELİMİZİ KULLANALIM\n",
        "\n",
        "\n",
        "Eğitimimiz tamamlandı, şimdi istediğimiz fotoğraflar üzerinde tanıma yapabiliriz."
      ]
    },
    {
      "cell_type": "code",
      "metadata": {
        "id": "2UoSBmTFlNep"
      },
      "source": [
        "!./darknet detector map data/obj.data cfg/yolov4-obj.cfg /mydrive/yolov4/backup/yolov4-obj_best.weights"
      ],
      "execution_count": null,
      "outputs": []
    },
    {
      "cell_type": "markdown",
      "metadata": {
        "id": "8dfPY2h39m-T"
      },
      "source": [
        "# Step 8: Modelimizi Çalıştıralım!!!\n"
      ]
    },
    {
      "cell_type": "code",
      "metadata": {
        "id": "xXkZNeA09o2f"
      },
      "source": [
        "# need to set our custom cfg to test mode \n",
        "%cd cfg\n",
        "!sed -i 's/batch=64/batch=1/' yolov4-obj.cfg\n",
        "!sed -i 's/subdivisions=16/subdivisions=1/' yolov4-obj.cfg\n",
        "%cd .."
      ],
      "execution_count": null,
      "outputs": []
    },
    {
      "cell_type": "code",
      "metadata": {
        "id": "o7IIzEal90dA"
      },
      "source": [
        "# run your custom detector with this command (upload an image to your google drive to test, thresh flag sets accuracy that detection must be in order to show it)\n",
        "!./darknet detector test data/obj.data cfg/yolov4-obj.cfg /mydrive/yolov4/backup/yolov4-obj_last.weights /mydrive/images/car4.jpg -thresh 0.3\n",
        "imShow('predictions.jpg')"
      ],
      "execution_count": null,
      "outputs": []
    },
    {
      "cell_type": "code",
      "source": [
        "%cd /content/"
      ],
      "metadata": {
        "colab": {
          "base_uri": "https://localhost:8080/"
        },
        "id": "jyGLYec3c3MG",
        "outputId": "a3dbd5ed-30cf-4c89-c1f8-5ea79c7c2c61"
      },
      "execution_count": null,
      "outputs": [
        {
          "output_type": "stream",
          "name": "stdout",
          "text": [
            "/content\n"
          ]
        }
      ]
    },
    {
      "cell_type": "code",
      "source": [
        "!git clone https://github.com/theAIGuysCode/yolov4-deepsort"
      ],
      "metadata": {
        "id": "AYdx_uLNcioD"
      },
      "execution_count": null,
      "outputs": []
    },
    {
      "cell_type": "code",
      "source": [
        "%cd yolov4-deepsort/"
      ],
      "metadata": {
        "colab": {
          "base_uri": "https://localhost:8080/"
        },
        "id": "FBbYTgK7cl6N",
        "outputId": "a95dbb64-a627-4d3a-93dd-9994088f49cc"
      },
      "execution_count": null,
      "outputs": [
        {
          "output_type": "stream",
          "name": "stdout",
          "text": [
            "/content/yolov4-deepsort\n"
          ]
        }
      ]
    },
    {
      "cell_type": "code",
      "source": [
        "# uncomment below line ONLY if you run into any dependency issues while following tutorial\n",
        "!pip install -r requirements-gpu.txt"
      ],
      "metadata": {
        "colab": {
          "base_uri": "https://localhost:8080/"
        },
        "id": "NgjZkQjZcoaz",
        "outputId": "002d8724-6eb8-480f-c0d1-27a407033abc"
      },
      "execution_count": null,
      "outputs": [
        {
          "output_type": "stream",
          "name": "stdout",
          "text": [
            "\u001b[31mERROR: Could not find a version that satisfies the requirement tensorflow-gpu==2.3.0rc0 (from versions: 1.13.1, 1.13.2, 1.14.0, 1.15.0, 1.15.2, 1.15.3, 1.15.4, 1.15.5, 2.0.0, 2.0.1, 2.0.2, 2.0.3, 2.0.4, 2.1.0, 2.1.1, 2.1.2, 2.1.3, 2.1.4, 2.2.0, 2.2.1, 2.2.2, 2.2.3, 2.3.0, 2.3.1, 2.3.2, 2.3.3, 2.3.4, 2.4.0, 2.4.1, 2.4.2, 2.4.3, 2.4.4, 2.5.0, 2.5.1, 2.5.2, 2.6.0, 2.6.1, 2.6.2, 2.7.0rc0, 2.7.0rc1, 2.7.0, 2.8.0rc0)\u001b[0m\n",
            "\u001b[31mERROR: No matching distribution found for tensorflow-gpu==2.3.0rc0\u001b[0m\n"
          ]
        }
      ]
    },
    {
      "cell_type": "code",
      "source": [
        "!pip install tensorflow==2.3.0"
      ],
      "metadata": {
        "id": "XCle_gWDcqum"
      },
      "execution_count": null,
      "outputs": []
    },
    {
      "cell_type": "code",
      "source": [
        "!python save_model.py --model yolov4"
      ],
      "metadata": {
        "id": "6dm1eaNvcsah"
      },
      "execution_count": null,
      "outputs": []
    },
    {
      "cell_type": "code",
      "source": [
        "!python object_tracker.py --video ./data/video/arsenal.mp4 --output ./outputs/tracker1.avi --model yolov4 --dont_show --info"
      ],
      "metadata": {
        "id": "492UPHhycuCx"
      },
      "execution_count": null,
      "outputs": []
    },
    {
      "cell_type": "code",
      "source": [
        "import io \n",
        "from IPython.display import HTML\n",
        "from base64 import b64encode\n",
        "def show_video(file_name, width=640):\n",
        "  # show resulting deepsort video\n",
        "  mp4 = open(file_name,'rb').read()\n",
        "  data_url = \"data:video/mp4;base64,\" + b64encode(mp4).decode()\n",
        "  return HTML(\"\"\"\n",
        "  <video width=\"{0}\" controls>\n",
        "        <source src=\"{1}\" type=\"video/mp4\">\n",
        "  </video>\n",
        "  \"\"\".format(width, data_url))"
      ],
      "metadata": {
        "id": "gV0n9uUXcwRh"
      },
      "execution_count": null,
      "outputs": []
    },
    {
      "cell_type": "code",
      "source": [
        "# convert resulting video from avi to mp4 file format\n",
        "import os\n",
        "path_video = os.path.join(\"outputs\",\"tracker.avi\")\n",
        "%cd outputs/\n",
        "!ffmpeg -y -loglevel panic -i tracker.avi output.mp4\n",
        "%cd ..\n",
        "\n",
        "# output object tracking video\n",
        "path_output = os.path.join(\"outputs\",\"output.mp4\")\n",
        "show_video(path_output, width=960)"
      ],
      "metadata": {
        "id": "2Km_sXKjcxvT"
      },
      "execution_count": null,
      "outputs": []
    },
    {
      "cell_type": "code",
      "source": [
        "!python object_tracker.py --video ./data/video/cars.mp4 --output ./outputs/custom.avi --model yolov4 --dont_show"
      ],
      "metadata": {
        "id": "6KrYsc0Zczrz"
      },
      "execution_count": null,
      "outputs": []
    },
    {
      "cell_type": "code",
      "source": [
        "path_video = os.path.join(\"outputs\",\"custom.avi\")\n",
        "%cd outputs/\n",
        "!ffmpeg -y -loglevel panic -i custom.avi result.mp4\n",
        "%cd ..\n",
        "\n",
        "# output object tracking video\n",
        "path_output = os.path.join(\"outputs\",\"result.mp4\")\n",
        "show_video(path_output, width=960)"
      ],
      "metadata": {
        "id": "Yw2OGZyic0-E"
      },
      "execution_count": null,
      "outputs": []
    }
  ]
}